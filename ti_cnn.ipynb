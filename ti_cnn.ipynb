{
 "cells": [
  {
   "cell_type": "markdown",
   "metadata": {},
   "source": [
    "## 訓練資料集&CNN Model"
   ]
  },
  {
   "cell_type": "code",
   "execution_count": 35,
   "metadata": {},
   "outputs": [],
   "source": [
    "import numpy as np\n",
    "import pandas as pd\n",
    "from keras.utils import np_utils \n",
    "from tqdm import tqdm\n",
    "import os\n",
    "from random import shuffle\n",
    "from keras.models import Model\n",
    "from matplotlib import pyplot\n",
    "from numpy import expand_dims\n",
    "import matplotlib.pyplot as plt \n",
    "from keras.models import Sequential\n",
    "from keras.layers import Dense, Dropout, Flatten, Conv2D, MaxPooling2D\n",
    "from keras import optimizers\n",
    "from keras.regularizers import l2\n",
    "from keras.layers import BatchNormalization\n",
    "from keras import regularizers\n",
    "\n",
    "def load_cnn_train_data():\n",
    "    os.environ[\"CUDA_VISIBLE_DEVICES\"]=\"0\"\n",
    "\n",
    "    #10大權值股\n",
    "    stock_codes = [2330,2317,2412,6505,1301,1303,2454,2882,2881,3008]\n",
    "    numbers = len(stock_codes)*570\n",
    "\n",
    "    x_train = []\n",
    "    y_train = []\n",
    "    for i in tqdm(stock_codes):\n",
    "        stock_code = str(i)\n",
    "\n",
    "        for i in range(570):\n",
    "            df = pd.read_csv('data/x/'+stock_code+'_'+str(i)+'_x.csv')\n",
    "            df = df.drop(['date'], axis = 1)\n",
    "\n",
    "            y = df['y'].T.to_numpy().tolist()\n",
    "            y_train.append(y[0])\n",
    "\n",
    "            df = df.drop(['y'], axis = 1)\n",
    "            df = df.drop(['floating'], axis = 1)\n",
    "\n",
    "            x = df.T.to_numpy().tolist()\n",
    "            x_train.append(x)\n",
    "\n",
    "    x_train = np.array(x_train)\n",
    "    x_train = x_train.reshape(numbers,20,30,1).astype('float32') \n",
    "    x_train = (x_train+1)/2\n",
    "\n",
    "    y_train = np.array(y_train).astype('float32') \n",
    "    y_train = (y_train+1)\n",
    "    y_train_onehot = np_utils.to_categorical(y_train,3)\n",
    "\n",
    "    return x_train, y_train_onehot\n",
    "\n",
    "def cnn_model():\n",
    "    model = Sequential()\n",
    "    model.add(Conv2D(filters = 128 ,kernel_size = (20,3), padding = 'same', input_shape = (20, 30, 1), activation = 'relu'))\n",
    "    #model.add(Conv2D(filters = 128,kernel_size = (20,3), padding = 'same', activation = 'relu'))\n",
    "    model.add(Dropout(0.5)) \n",
    "    model.add(Flatten())                                    \n",
    "    model.add(Dense(128, activation='relu'))\n",
    "    model.add(Dropout(0.5)) \n",
    "    model.add(Dense(3,activation='softmax'))\n",
    "    model.summary()\n",
    "    return model"
   ]
  },
  {
   "cell_type": "code",
   "execution_count": 36,
   "metadata": {},
   "outputs": [
    {
     "name": "stderr",
     "output_type": "stream",
     "text": [
      "100%|██████████| 10/10 [00:22<00:00,  2.26s/it]\n"
     ]
    },
    {
     "name": "stdout",
     "output_type": "stream",
     "text": [
      "Model: \"sequential_3\"\n",
      "_________________________________________________________________\n",
      "Layer (type)                 Output Shape              Param #   \n",
      "=================================================================\n",
      "conv2d_5 (Conv2D)            (None, 20, 30, 128)       7808      \n",
      "_________________________________________________________________\n",
      "dropout_5 (Dropout)          (None, 20, 30, 128)       0         \n",
      "_________________________________________________________________\n",
      "flatten_3 (Flatten)          (None, 76800)             0         \n",
      "_________________________________________________________________\n",
      "dense_5 (Dense)              (None, 128)               9830528   \n",
      "_________________________________________________________________\n",
      "dropout_6 (Dropout)          (None, 128)               0         \n",
      "_________________________________________________________________\n",
      "dense_6 (Dense)              (None, 3)                 387       \n",
      "=================================================================\n",
      "Total params: 9,838,723\n",
      "Trainable params: 9,838,723\n",
      "Non-trainable params: 0\n",
      "_________________________________________________________________\n"
     ]
    }
   ],
   "source": [
    "x_train, y_train_onehot = load_cnn_train_data()\n",
    "model = cnn_model()"
   ]
  },
  {
   "cell_type": "code",
   "execution_count": 38,
   "metadata": {},
   "outputs": [
    {
     "name": "stdout",
     "output_type": "stream",
     "text": [
      "Train on 4560 samples, validate on 1140 samples\n",
      "Epoch 1/100\n",
      " - 7s - loss: 1.0708 - accuracy: 0.4868 - val_loss: 0.7086 - val_accuracy: 0.6877\n",
      "Epoch 2/100\n",
      " - 7s - loss: 0.6980 - accuracy: 0.6627 - val_loss: 0.6659 - val_accuracy: 0.7000\n",
      "Epoch 3/100\n",
      " - 7s - loss: 0.6286 - accuracy: 0.7134 - val_loss: 0.6007 - val_accuracy: 0.7254\n",
      "Epoch 4/100\n",
      " - 7s - loss: 0.5909 - accuracy: 0.7355 - val_loss: 0.5973 - val_accuracy: 0.7272\n",
      "Epoch 5/100\n",
      " - 7s - loss: 0.5801 - accuracy: 0.7353 - val_loss: 0.5655 - val_accuracy: 0.7439\n",
      "Epoch 6/100\n",
      " - 7s - loss: 0.5542 - accuracy: 0.7454 - val_loss: 0.5897 - val_accuracy: 0.7395\n",
      "Epoch 7/100\n",
      " - 7s - loss: 0.5552 - accuracy: 0.7489 - val_loss: 0.5934 - val_accuracy: 0.7421\n",
      "Epoch 8/100\n",
      " - 7s - loss: 0.5253 - accuracy: 0.7763 - val_loss: 0.5852 - val_accuracy: 0.7430\n",
      "Epoch 9/100\n",
      " - 7s - loss: 0.5231 - accuracy: 0.7684 - val_loss: 0.5911 - val_accuracy: 0.7404\n",
      "Epoch 10/100\n",
      " - 7s - loss: 0.5155 - accuracy: 0.7689 - val_loss: 0.5785 - val_accuracy: 0.7465\n",
      "Epoch 11/100\n",
      " - 7s - loss: 0.4984 - accuracy: 0.7792 - val_loss: 0.5638 - val_accuracy: 0.7535\n",
      "Epoch 12/100\n",
      " - 7s - loss: 0.5035 - accuracy: 0.7868 - val_loss: 0.5602 - val_accuracy: 0.7623\n",
      "Epoch 13/100\n",
      " - 7s - loss: 0.4921 - accuracy: 0.7820 - val_loss: 0.6301 - val_accuracy: 0.7079\n",
      "Epoch 14/100\n",
      " - 7s - loss: 0.4917 - accuracy: 0.7873 - val_loss: 0.5952 - val_accuracy: 0.7482\n",
      "Epoch 15/100\n",
      " - 7s - loss: 0.4630 - accuracy: 0.8015 - val_loss: 0.5628 - val_accuracy: 0.7544\n",
      "Epoch 16/100\n",
      " - 7s - loss: 0.4483 - accuracy: 0.8072 - val_loss: 0.5761 - val_accuracy: 0.7351\n",
      "Epoch 17/100\n",
      " - 7s - loss: 0.4463 - accuracy: 0.8096 - val_loss: 0.5808 - val_accuracy: 0.7526\n",
      "Epoch 18/100\n",
      " - 7s - loss: 0.4354 - accuracy: 0.8173 - val_loss: 0.5612 - val_accuracy: 0.7447\n",
      "Epoch 19/100\n",
      " - 7s - loss: 0.4215 - accuracy: 0.8202 - val_loss: 0.5746 - val_accuracy: 0.7447\n",
      "Epoch 20/100\n",
      " - 7s - loss: 0.4218 - accuracy: 0.8246 - val_loss: 0.5736 - val_accuracy: 0.7544\n",
      "Epoch 21/100\n",
      " - 7s - loss: 0.4006 - accuracy: 0.8336 - val_loss: 0.6076 - val_accuracy: 0.7298\n",
      "Epoch 22/100\n",
      " - 7s - loss: 0.3978 - accuracy: 0.8257 - val_loss: 0.6655 - val_accuracy: 0.7149\n",
      "Epoch 00022: early stopping\n"
     ]
    }
   ],
   "source": [
    "from keras.callbacks import EarlyStopping\n",
    "\n",
    "adam = optimizers.Adam(lr=0.001, beta_1=0.9, beta_2=0.999, epsilon=1e-08) \n",
    "early_stop = EarlyStopping(monitor='val_loss', patience=10, verbose=2)\n",
    "\n",
    "model.compile(loss='categorical_crossentropy',optimizer= adam,metrics=['accuracy']) \n",
    "train_history=model.fit(x = x_train, y = y_train_onehot, validation_split = 0.2, epochs = 100 ,batch_size = 128, verbose = 2, callbacks=[early_stop])"
   ]
  },
  {
   "cell_type": "markdown",
   "metadata": {},
   "source": [
    "## 測試資料集\n",
    "stock_code參數調整預測試的股票代碼"
   ]
  },
  {
   "cell_type": "code",
   "execution_count": 50,
   "metadata": {},
   "outputs": [
    {
     "name": "stderr",
     "output_type": "stream",
     "text": [
      "100%|██████████| 1/1 [00:02<00:00,  2.25s/it]\n"
     ]
    }
   ],
   "source": [
    "stock_codes = [2330]\n",
    "numbers = len(stock_codes)*570\n",
    "\n",
    "x_test = []\n",
    "y_test = []\n",
    "for i in tqdm(stock_codes):\n",
    "    stock_code = str(i)\n",
    "    \n",
    "    for i in range(570):\n",
    "        df = pd.read_csv('data/x/'+stock_code+'_'+str(i)+'_x.csv')\n",
    "        df = df.drop(['date'], axis = 1)\n",
    "        \n",
    "        y = df['y'].T.to_numpy().tolist()\n",
    "        y_test.append(y[0])\n",
    "        \n",
    "        df = df.drop(['y'], axis = 1)\n",
    "        df = df.drop(['floating'], axis = 1)\n",
    "        \n",
    "        x = df.T.to_numpy().tolist()\n",
    "        x_test.append(x)\n",
    "    \n",
    "x_test = np.array(x_test)\n",
    "x_test = x_test.reshape(numbers,20,30,1).astype('float32') \n",
    "x_test = (x_test+1)/2\n",
    "\n",
    "y_test = np.array(y_test).astype('float32') \n",
    "y_test = (y_test+1)\n",
    "y_test_onehot = np_utils.to_categorical(y_test,3)"
   ]
  },
  {
   "cell_type": "markdown",
   "metadata": {},
   "source": [
    "## 評估"
   ]
  },
  {
   "cell_type": "code",
   "execution_count": 55,
   "metadata": {},
   "outputs": [
    {
     "name": "stdout",
     "output_type": "stream",
     "text": [
      "570/570 [==============================] - 0s 280us/step\n",
      "acc : 0.840350866317749\n"
     ]
    },
    {
     "data": {
      "text/html": [
       "<div>\n",
       "<style scoped>\n",
       "    .dataframe tbody tr th:only-of-type {\n",
       "        vertical-align: middle;\n",
       "    }\n",
       "\n",
       "    .dataframe tbody tr th {\n",
       "        vertical-align: top;\n",
       "    }\n",
       "\n",
       "    .dataframe thead th {\n",
       "        text-align: right;\n",
       "    }\n",
       "</style>\n",
       "<table border=\"1\" class=\"dataframe\">\n",
       "  <thead>\n",
       "    <tr style=\"text-align: right;\">\n",
       "      <th>predict</th>\n",
       "      <th>0.0</th>\n",
       "      <th>1.0</th>\n",
       "      <th>2.0</th>\n",
       "    </tr>\n",
       "    <tr>\n",
       "      <th>label</th>\n",
       "      <th></th>\n",
       "      <th></th>\n",
       "      <th></th>\n",
       "    </tr>\n",
       "  </thead>\n",
       "  <tbody>\n",
       "    <tr>\n",
       "      <th>0.0</th>\n",
       "      <td>86</td>\n",
       "      <td>15</td>\n",
       "      <td>0</td>\n",
       "    </tr>\n",
       "    <tr>\n",
       "      <th>1.0</th>\n",
       "      <td>7</td>\n",
       "      <td>187</td>\n",
       "      <td>11</td>\n",
       "    </tr>\n",
       "    <tr>\n",
       "      <th>2.0</th>\n",
       "      <td>0</td>\n",
       "      <td>58</td>\n",
       "      <td>206</td>\n",
       "    </tr>\n",
       "  </tbody>\n",
       "</table>\n",
       "</div>"
      ],
      "text/plain": [
       "predict  0.0  1.0  2.0\n",
       "label                 \n",
       "0.0       86   15    0\n",
       "1.0        7  187   11\n",
       "2.0        0   58  206"
      ]
     },
     "execution_count": 55,
     "metadata": {},
     "output_type": "execute_result"
    }
   ],
   "source": [
    "from keras.models import load_model\n",
    "\n",
    "scores = model.evaluate(x_test, y_test_onehot)   \n",
    "print('acc :', scores[1])\n",
    "prediction = model.predict_classes(x_test) .astype('float32')\n",
    "pd.crosstab(y_test, prediction, rownames=['label'],colnames=['predict'])"
   ]
  },
  {
   "cell_type": "code",
   "execution_count": 75,
   "metadata": {},
   "outputs": [
    {
     "name": "stdout",
     "output_type": "stream",
     "text": [
      "directional symmetry(包含不漲跌類別): 84.03508771929825 %\n",
      "directional symmetry(不漲跌類別皆為錯): 51.2280701754386 %\n"
     ]
    }
   ],
   "source": [
    "class Directional_Symmetry:\n",
    "    def __init__(self, prediction, real):\n",
    "        self.prediction = prediction-1\n",
    "        self.real = real - 1\n",
    "        self.my_dc()\n",
    "        self.dc()\n",
    "\n",
    "    def my_dc(self):\n",
    "        total = 0\n",
    "        for i in range(len(self.real)):\n",
    "            if self.real[i] * self.prediction[i] == 0:\n",
    "                if self.real[i] == 0 and self.prediction[i] == 0:\n",
    "                    tmp = 1\n",
    "                else:\n",
    "                    tmp = 0\n",
    "            else:\n",
    "                tmp = 1\n",
    "            total += tmp\n",
    "        result = total/(len(self.real))*100\n",
    "        self.my_dc_results = result\n",
    "\n",
    "    def dc(self):\n",
    "        total = 0\n",
    "        for i in range(len(self.real)):\n",
    "            if self.prediction[i] * self.real[i] > 0:\n",
    "                tmp = 1\n",
    "            else:\n",
    "                tmp = 0\n",
    "            total += tmp\n",
    "        result = total/(len(self.real))*100\n",
    "        self.dc_results = result\n",
    "\n",
    "ds = Directional_Symmetry(prediction,y_test)\n",
    "print('directional symmetry(包含不漲跌類別):', ds.my_dc_results,'%')\n",
    "print('directional symmetry(不漲跌類別皆為錯):', ds.dc_results,'%')\n"
   ]
  },
  {
   "cell_type": "code",
   "execution_count": null,
   "metadata": {},
   "outputs": [],
   "source": []
  }
 ],
 "metadata": {
  "kernelspec": {
   "display_name": "Python 3",
   "language": "python",
   "name": "python3"
  },
  "language_info": {
   "codemirror_mode": {
    "name": "ipython",
    "version": 3
   },
   "file_extension": ".py",
   "mimetype": "text/x-python",
   "name": "python",
   "nbconvert_exporter": "python",
   "pygments_lexer": "ipython3",
   "version": "3.6.10"
  }
 },
 "nbformat": 4,
 "nbformat_minor": 4
}
