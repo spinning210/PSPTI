{
 "cells": [
  {
   "cell_type": "code",
   "execution_count": 5,
   "metadata": {},
   "outputs": [
    {
     "name": "stderr",
     "output_type": "stream",
     "text": [
      "100%|██████████| 19/19 [00:21<00:00,  1.11s/it]"
     ]
    },
    {
     "name": "stdout",
     "output_type": "stream",
     "text": [
      "split data done.\n"
     ]
    },
    {
     "name": "stderr",
     "output_type": "stream",
     "text": [
      "\n"
     ]
    }
   ],
   "source": [
    "#cnn資料切割  跑模型前將資料切成30天為一份的資料  儲存在data/x/中\n",
    "import numpy as np\n",
    "import pandas as pd\n",
    "from tqdm import tqdm\n",
    "\n",
    "trains = [2330,2317,2412,6505,1301,1303,2454,2882,2881,3008]\n",
    "test = [1101,1102,1103,1104,1108,1109,1110,1201,2101]\n",
    "stock_codes = trains + test\n",
    "\n",
    "def save_splite_data(df,i,stock_code):\n",
    "    df.to_csv('data/x/' + stock_code + '_' + str(i) + '_x.csv')\n",
    "\n",
    "for stock_code in tqdm(stock_codes):\n",
    "    stock_code = str(stock_code)\n",
    "    df = pd.read_csv('data/ti/'+ stock_code + '.csv', index_col='date')\n",
    "    df['y'] = df['floating']   #此floating在資料預處理後就以設定為30天候對本日的浮動狀況，所以可以直接拿來當y，但在輸入時要drop掉\n",
    "\n",
    "    for i in range(len(df)):\n",
    "        if len(df) > 30:\n",
    "            save_splite_data(df.head(30),i,stock_code)\n",
    "            df.drop(df.head(1).index, inplace=True)\n",
    "            \n",
    "print('split data done.')"
   ]
  },
  {
   "cell_type": "code",
   "execution_count": 13,
   "metadata": {},
   "outputs": [
    {
     "name": "stderr",
     "output_type": "stream",
     "text": [
      "100%|██████████| 13/13 [00:10<00:00,  1.24it/s]"
     ]
    },
    {
     "name": "stdout",
     "output_type": "stream",
     "text": [
      "split data done.\n"
     ]
    },
    {
     "name": "stderr",
     "output_type": "stream",
     "text": [
      "\n"
     ]
    }
   ],
   "source": [
    "#lstm 資料切割  \n",
    "import numpy as np\n",
    "import pandas as pd\n",
    "from tqdm import tqdm\n",
    "\n",
    "trains = [2330,2317,2412,6505,1301,1303,2454,2882,2881,3008]\n",
    "test = [1101,1103,1104]\n",
    "stock_codes = trains + test\n",
    "#stock_codes = [1101]\n",
    "\n",
    "def save_splite_data(df,i):\n",
    "    df.to_csv('data/lstm_x/' + stock_code + '_' + str(i) + '_x.csv')\n",
    "\n",
    "for i in tqdm(stock_codes):\n",
    "    stock_code = str(i)\n",
    "    df = pd.read_csv('data/stock/'+stock_code+'.csv')\n",
    "    df = df.loc[:, ~df.columns.str.contains('^Unnamed')]\n",
    "    df['y'] = df['floating'].shift(-30) #當天的預測直為後30天的floating\n",
    "    df = df.dropna()\n",
    "\n",
    "    for i in range(len(df)):\n",
    "        if len(df) > 30:\n",
    "            save_splite_data(df.head(30),i)\n",
    "            #save_splite_y(pd.DataFrame(df.iloc[30].tolist()),i)\n",
    "            #save_splite_y(df['y'],i)\n",
    "            df.drop(df.head(1).index, inplace=True)\n",
    "print('split data done.')\n",
    "\n",
    "\n",
    "# stock_or['date'] = pd.to_datetime(stock_or['date'], format='%Y-%m-%d')\n",
    "# stock_or['weekday'] = stock_or['date'].apply(lambda x: x.day)\n",
    "# stock_or['year'] = stock_or['date'].apply(lambda x: x.year)\n",
    "# stock_or['Month'] = stock_or['date'].apply(lambda x: x.month)\n",
    "# stock_or.head(10)\n",
    "\n",
    "# stock_or.drop(['date','open','high','low','to','nt','mv','p/e','p/b','Month','weekday','year','floating'], axis=1, inplace=True)\n",
    "# stock_or.head(10)"
   ]
  },
  {
   "cell_type": "code",
   "execution_count": null,
   "metadata": {},
   "outputs": [],
   "source": []
  }
 ],
 "metadata": {
  "kernelspec": {
   "display_name": "Python 3",
   "language": "python",
   "name": "python3"
  },
  "language_info": {
   "codemirror_mode": {
    "name": "ipython",
    "version": 3
   },
   "file_extension": ".py",
   "mimetype": "text/x-python",
   "name": "python",
   "nbconvert_exporter": "python",
   "pygments_lexer": "ipython3",
   "version": "3.6.10"
  }
 },
 "nbformat": 4,
 "nbformat_minor": 4
}
